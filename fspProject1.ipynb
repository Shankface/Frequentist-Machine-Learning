{
  "nbformat": 4,
  "nbformat_minor": 0,
  "metadata": {
    "colab": {
      "provenance": [],
      "collapsed_sections": []
    },
    "kernelspec": {
      "name": "python3",
      "display_name": "Python 3"
    },
    "language_info": {
      "name": "python"
    }
  },
  "cells": [
    {
      "cell_type": "markdown",
      "source": [
        "Read and Divide Data"
      ],
      "metadata": {
        "id": "AXemIQXjiG_a"
      }
    },
    {
      "cell_type": "code",
      "source": [
        "# The Prostate data set can be found here: \n",
        "# The Real Estate CSV can be found here: www.kaggle.com/datasets/quantbruce/real-estate-price-prediction\n",
        "\n",
        "import pandas as pd\n",
        "import numpy as np\n",
        "import matplotlib.pyplot as plt\n",
        "import sklearn.linear_model as LinearModel\n",
        "\n",
        "# function that cleans and preprocesses the data for the prostate dataset\n",
        "def clean_data():\n",
        "  data = pd.read_csv(\"./prostate.data\", '\\t').sample(frac=1)\n",
        "  data = data.drop(columns=data.columns[0]).drop(columns=data.columns[-1:])\n",
        "  features = data.drop(columns=data.columns[-1:])\n",
        "  features = (features - features.mean())/features.std()\n",
        "\n",
        "  labels = data.drop(columns=data.columns[:-1])\n",
        "  \n",
        "  # create dividers with to make a 80 10 10 split\n",
        "  dividers = [int(len(data) * 0.8), int(len(data) * 0.8) + int(len(data) * 0.1) + 1]\n",
        "\n",
        "\n",
        "  training_features = features[0:dividers[0]]\n",
        "  training_labels = labels[0:dividers[0]]\n",
        "\n",
        "  testing_features = features[dividers[0]:dividers[1]]\n",
        "  testing_labels = labels[dividers[0]:dividers[1]]\n",
        "\n",
        "  validation_features = features[dividers[1]:len(data)]\n",
        "  validation_labels = labels[dividers[1]:len(data)]\n",
        "\n",
        "  columns = validation_features.columns\n",
        "\n",
        "  training_features.insert(0, \"intercept\", np.ones(len(training_features)))\n",
        "  testing_features.insert(0, \"intercept\", np.ones(len(testing_features)))\n",
        "  validation_features.insert(0, \"intercept\", np.ones(len(validation_features)))\n",
        "  \n",
        "  training_features = training_features.to_numpy()\n",
        "  testing_features = testing_features.to_numpy()\n",
        "  validation_features = validation_features.to_numpy()\n",
        "\n",
        "  training_labels = training_labels.to_numpy()\n",
        "  testing_labels = testing_labels.to_numpy()\n",
        "  validation_labels = validation_labels.to_numpy()\n",
        "\n",
        "  return training_features, training_labels, testing_features, testing_labels, validation_features, validation_labels, columns\n",
        "\n",
        "# function that cleans and preprocesses the data for the real estate dataset\n",
        "# This dataset was taken from www.kaggle.com/datasets/quantbruce/real-estate-price-prediction\n",
        "def clean_data2():\n",
        "  data = pd.read_csv(\"./Real estate.csv\").sample(frac=1)\n",
        "  data = data.drop(columns=data.columns[0])\n",
        "\n",
        "  features = data.drop(columns=data.columns[-1:])\n",
        "  features = (features - features.mean())/features.std()\n",
        "\n",
        "  labels = data.drop(columns=data.columns[:-1])\n",
        "  \n",
        "  dividers = [int(len(data) * 0.8), int(len(data) * 0.8) + int(len(data) * 0.1) + 1]\n",
        "\n",
        "\n",
        "  training_features = features[0:dividers[0]]\n",
        "  training_labels = labels[0:dividers[0]]\n",
        "\n",
        "  testing_features = features[dividers[0]:dividers[1]]\n",
        "  testing_labels = labels[dividers[0]:dividers[1]]\n",
        "\n",
        "  validation_features = features[dividers[1]:len(data)]\n",
        "  validation_labels = labels[dividers[1]:len(data)]\n",
        "  columns = validation_features.columns\n",
        "\n",
        "  training_features.insert(0, \"intercept\", np.ones(len(training_features)))\n",
        "  testing_features.insert(0, \"intercept\", np.ones(len(testing_features)))\n",
        "  validation_features.insert(0, \"intercept\", np.ones(len(validation_features)))\n",
        "  \n",
        "  training_features = training_features.to_numpy()\n",
        "  testing_features = testing_features.to_numpy()\n",
        "  validation_features = validation_features.to_numpy()\n",
        "\n",
        "  training_labels = training_labels.to_numpy()\n",
        "  testing_labels = testing_labels.to_numpy()\n",
        "  validation_labels = validation_labels.to_numpy()\n",
        "  print(training_features)\n",
        "\n",
        "  return training_features, training_labels, testing_features, testing_labels, validation_features, validation_labels, columns\n",
        "\n",
        "\n",
        "def linear_regression(x, y):\n",
        "  # equation 3.6: b_h = (X^T * X)^-1 * X^T * y\n",
        "  b_h = np.linalg.inv(x.T @ x) @ x.T @ y\n",
        "  return b_h\n",
        "\n",
        "def linear_ridge_regression(x, y, lam):\n",
        "  # equation 3.6: b_h = (X^T * X)^-1 * X^T * y\n",
        "  b_h = np.linalg.inv(x.T @ x + lam * np.identity(x.shape[1])) @ x.T @ y\n",
        "  b_o = np.mean(y)\n",
        "  return b_o, b_h\n",
        "\n",
        "def prediction(x, b):\n",
        "  return x @ b\n",
        "\n",
        "def prediction_ridge_regression(x, b, b_o):\n",
        "  return b_o + x @ b\n",
        "\n",
        "def MSE(y, y_h):\n",
        "  return np.mean(np.square((y - y_h)))\n",
        "\n",
        "def std_err(x, y, y_hat):\n",
        "  stde = np.sqrt((1 / (x.shape[0] - x.shape[1] - 1 ) * np.sum(np.square(y-y_hat))) * np.diagonal(np.linalg.inv(x.T @ x)))\n",
        "  return np.array([stde]).T"
      ],
      "metadata": {
        "id": "gHjSPXkdEye7"
      },
      "execution_count": null,
      "outputs": []
    },
    {
      "cell_type": "markdown",
      "source": [
        "Print Tables"
      ],
      "metadata": {
        "id": "es2IkEFQiM9T"
      }
    },
    {
      "cell_type": "code",
      "source": [
        "def Tables(data_name,training_features, training_labels, testing_features, testing_labels, columns):\n",
        "  print(\"-----------------------------------------------------------------\")\n",
        "  print(\"Linear Regression for \" + data_name)\n",
        "  print(\"------------------------------\")\n",
        "\n",
        "  b_h = linear_regression(training_features, training_labels)\n",
        "  y_h_train = prediction(training_features, b_h)\n",
        "  y_h_test = prediction(testing_features, b_h)\n",
        "  # generating correlation table\n",
        "  print(\"TABLE 3.1. Correlations of predictors in the \" + data_name + \" data.\")\n",
        "  print(pd.DataFrame(training_features[:,1:], columns=[columns]).corr())\n",
        "  print(\"------------------------------\")\n",
        "\n",
        "  # generating linear model fit\n",
        "  print(\"TABLE 3.2. Linear model fit to the \" + data_name + \" data.\")\n",
        "  var = np.linalg.inv(np.dot(training_features.transpose(), training_features))\n",
        "\n",
        "  linear_model_df = pd.DataFrame()\n",
        "  linear_model_df['Term'] = [\"intercept\"] + list(columns)\n",
        "  linear_model_df['Coefficient'] = b_h\n",
        "  linear_model_df['Std Error'] = std_err(training_features, training_labels, y_h_train)\n",
        "  linear_model_df['Z Score'] = b_h / std_err(training_features, training_labels, y_h_train)\n",
        "\n",
        "  display(linear_model_df)\n",
        "  display(\"MSE= \" + str(MSE(testing_labels, y_h_test)))\n"
      ],
      "metadata": {
        "id": "vT0BDVSwiGKs"
      },
      "execution_count": null,
      "outputs": []
    },
    {
      "cell_type": "markdown",
      "source": [
        "Ridge Regression"
      ],
      "metadata": {
        "id": "T6A2MPpsZ3Dg"
      }
    },
    {
      "cell_type": "code",
      "source": [
        "def Ridge(data_name, training_features, training_labels, testing_features, testing_labels, validation_features, validation_labels, columns):\n",
        "  print(\"-----------------------------------------------------------------\")\n",
        "  print(\"Ridge Regression for \" + data_name)\n",
        "  print(\"------------------------------\")\n",
        "  \n",
        "  num_lambdas = 1000\n",
        "  test_lams = np.linspace(1, 1000, num_lambdas)\n",
        "\n",
        "  min_mse = 1e12\n",
        "\n",
        "  best_lam = 0\n",
        "  best_b_o = 0\n",
        "  best_b_h = 0\n",
        "  bs = np.zeros((training_features.shape[1] - 1, num_lambdas))\n",
        "\n",
        "  for i, lam in enumerate(test_lams):\n",
        "    b_o, b_h = linear_ridge_regression(training_features[:, 1:], training_labels, lam)\n",
        "    y_h = prediction_ridge_regression(validation_features[:, 1:], b_h, b_o)\n",
        "    mse = MSE(validation_labels, y_h).item()\n",
        "    #print(mse)\n",
        "    bs[:, i] = b_h.flatten().T\n",
        "    if mse < min_mse:\n",
        "      min_mse = mse\n",
        "      best_lam = lam\n",
        "      best_b_o = b_o\n",
        "      best_b_h = b_h\n",
        "\n",
        "  print(\"best lambda= \" + str(best_lam))\n",
        "  print(\"min mse = \" + str(min_mse))\n",
        "  fig, ax = plt.subplots(1, 1)\n",
        "  ax.plot(np.log(test_lams), bs.T)\n",
        "  ax.legend(columns)\n",
        "  ax.axvline(np.log(best_lam), ls=\"--\")\n",
        "  ax.invert_xaxis()\n",
        "  ax.set_xlabel(\"Lambda\")\n",
        "  ax.set_ylabel(\"coef\")\n",
        "  ax.set_title(\"Ridge Regression for \" + data_name)\n",
        "\n",
        "  y_h = prediction_ridge_regression(testing_features[:, 1:], best_b_h, best_b_o)\n",
        "  display(\"Test MSE = \" + str(MSE(testing_labels, y_h)))"
      ],
      "metadata": {
        "id": "sViQLlIcZ2HL"
      },
      "execution_count": null,
      "outputs": []
    },
    {
      "cell_type": "markdown",
      "source": [
        "Lasso Regression"
      ],
      "metadata": {
        "id": "VO7bTEY2kJ3E"
      }
    },
    {
      "cell_type": "code",
      "source": [
        "def Lasso(data_name, training_features, training_labels, validation_features, validation_labels, columns, start_lam=0.0001, end_lam=1):\n",
        "  print(\"-----------------------------------------------------------------\")\n",
        "  print(\"Lasso for \" + data_name)\n",
        "  print(\"------------------------------\")\n",
        "  \n",
        "  num_lambdas = 1000\n",
        "  test_lams2 = np.linspace(start_lam, end_lam, num_lambdas)\n",
        "\n",
        "  best_score = 0\n",
        "  best_lambda = 0\n",
        "  bs = np.zeros((training_features.shape[1] - 1, num_lambdas))\n",
        "\n",
        "  for i, lam in enumerate(test_lams2):\n",
        "    lasso = LinearModel.Lasso(alpha=lam)\n",
        "    lasso.fit(list(training_features[:, 1:]), list(training_labels))\n",
        "    score = lasso.score(validation_features[:, 1:], validation_labels)\n",
        "    bs[:, i] = lasso.coef_\n",
        "    if score > best_score:\n",
        "      best_score = score\n",
        "      best_lambda = lam\n",
        "\n",
        "  print(\"Best Lamba= \"  + str(best_lambda))\n",
        "  fig, ax = plt.subplots(1, 1)\n",
        "  ax.axvline(best_lambda, ls=\"--\")\n",
        "  ax.plot(test_lams2, bs.T)\n",
        "  ax.invert_xaxis()\n",
        "  ax.legend(columns)\n",
        "  ax.set_xlabel(\"Lambda\")\n",
        "  ax.set_ylabel(\"coef\")\n",
        "  ax.set_title(\"Ridge Regression for \" + data_name)"
      ],
      "metadata": {
        "id": "7JGs2HsSkLoB"
      },
      "execution_count": null,
      "outputs": []
    },
    {
      "cell_type": "code",
      "source": [
        "training_features, training_labels, testing_features, testing_labels, validation_features, validation_labels, columns = clean_data()\n",
        "columns1 = ['lcavol', 'lweight', 'age', 'lbph', 'svi', 'lcp', 'gleason', 'pgg45']\n",
        "\n",
        "Tables(\"Prostate Cancer\", training_features, training_labels, testing_features, testing_labels,columns1)\n",
        "Ridge(\"Prostate Cancer\",training_features, training_labels, testing_features, testing_labels, validation_features, validation_labels, columns1)\n",
        "Lasso(\"Prostate Cancer\",training_features, training_labels, validation_features, validation_labels, columns1)"
      ],
      "metadata": {
        "colab": {
          "base_uri": "https://localhost:8080/",
          "height": 1000
        },
        "id": "lN19BfOBmAJW",
        "outputId": "822c5130-e3a3-4c11-91d2-da39a274b222"
      },
      "execution_count": null,
      "outputs": [
        {
          "output_type": "stream",
          "name": "stdout",
          "text": [
            "-----------------------------------------------------------------\n",
            "Linear Regression for Prostate Cancer\n",
            "------------------------------\n",
            "TABLE 3.1. Correlations of predictors in the Prostate Cancer data.\n",
            "           lcavol   lweight       age      lbph       svi       lcp   gleason  \\\n",
            "lcavol   1.000000  0.268272  0.290181  0.071561  0.467667  0.655806  0.438743   \n",
            "lweight  0.268272  1.000000  0.363626  0.494353  0.104236  0.133239  0.029366   \n",
            "age      0.290181  0.363626  1.000000  0.352121  0.147517  0.141371  0.252320   \n",
            "lbph     0.071561  0.494353  0.352121  1.000000 -0.066412  0.038019  0.076753   \n",
            "svi      0.467667  0.104236  0.147517 -0.066412  1.000000  0.673916  0.260707   \n",
            "lcp      0.655806  0.133239  0.141371  0.038019  0.673916  1.000000  0.489157   \n",
            "gleason  0.438743  0.029366  0.252320  0.076753  0.260707  0.489157  1.000000   \n",
            "pgg45    0.444625  0.034162  0.241415  0.091742  0.484052  0.629307  0.738703   \n",
            "\n",
            "            pgg45  \n",
            "lcavol   0.444625  \n",
            "lweight  0.034162  \n",
            "age      0.241415  \n",
            "lbph     0.091742  \n",
            "svi      0.484052  \n",
            "lcp      0.629307  \n",
            "gleason  0.738703  \n",
            "pgg45    1.000000  \n",
            "------------------------------\n",
            "TABLE 3.2. Linear model fit to the Prostate Cancer data.\n"
          ]
        },
        {
          "output_type": "stream",
          "name": "stderr",
          "text": [
            "/usr/local/lib/python3.7/dist-packages/ipykernel_launcher.py:1: FutureWarning: In a future version of pandas all arguments of read_csv except for the argument 'filepath_or_buffer' will be keyword-only\n",
            "  \"\"\"Entry point for launching an IPython kernel.\n"
          ]
        },
        {
          "output_type": "display_data",
          "data": {
            "text/plain": [
              "        Term  Coefficient  Std Error    Z Score\n",
              "0  intercept     2.557721   0.080358  31.829140\n",
              "1     lcavol     0.673562   0.116991   5.757365\n",
              "2    lweight     0.276025   0.099553   2.772639\n",
              "3        age    -0.103831   0.093798  -1.106963\n",
              "4       lbph     0.126789   0.097487   1.300572\n",
              "5        svi     0.274236   0.122436   2.239835\n",
              "6        lcp    -0.106328   0.145702  -0.729763\n",
              "7    gleason    -0.036245   0.124057  -0.292160\n",
              "8      pgg45     0.211098   0.142635   1.479988"
            ],
            "text/html": [
              "\n",
              "  <div id=\"df-0278a5e2-fa8b-4506-80cd-cf94cd57c17c\">\n",
              "    <div class=\"colab-df-container\">\n",
              "      <div>\n",
              "<style scoped>\n",
              "    .dataframe tbody tr th:only-of-type {\n",
              "        vertical-align: middle;\n",
              "    }\n",
              "\n",
              "    .dataframe tbody tr th {\n",
              "        vertical-align: top;\n",
              "    }\n",
              "\n",
              "    .dataframe thead th {\n",
              "        text-align: right;\n",
              "    }\n",
              "</style>\n",
              "<table border=\"1\" class=\"dataframe\">\n",
              "  <thead>\n",
              "    <tr style=\"text-align: right;\">\n",
              "      <th></th>\n",
              "      <th>Term</th>\n",
              "      <th>Coefficient</th>\n",
              "      <th>Std Error</th>\n",
              "      <th>Z Score</th>\n",
              "    </tr>\n",
              "  </thead>\n",
              "  <tbody>\n",
              "    <tr>\n",
              "      <th>0</th>\n",
              "      <td>intercept</td>\n",
              "      <td>2.557721</td>\n",
              "      <td>0.080358</td>\n",
              "      <td>31.829140</td>\n",
              "    </tr>\n",
              "    <tr>\n",
              "      <th>1</th>\n",
              "      <td>lcavol</td>\n",
              "      <td>0.673562</td>\n",
              "      <td>0.116991</td>\n",
              "      <td>5.757365</td>\n",
              "    </tr>\n",
              "    <tr>\n",
              "      <th>2</th>\n",
              "      <td>lweight</td>\n",
              "      <td>0.276025</td>\n",
              "      <td>0.099553</td>\n",
              "      <td>2.772639</td>\n",
              "    </tr>\n",
              "    <tr>\n",
              "      <th>3</th>\n",
              "      <td>age</td>\n",
              "      <td>-0.103831</td>\n",
              "      <td>0.093798</td>\n",
              "      <td>-1.106963</td>\n",
              "    </tr>\n",
              "    <tr>\n",
              "      <th>4</th>\n",
              "      <td>lbph</td>\n",
              "      <td>0.126789</td>\n",
              "      <td>0.097487</td>\n",
              "      <td>1.300572</td>\n",
              "    </tr>\n",
              "    <tr>\n",
              "      <th>5</th>\n",
              "      <td>svi</td>\n",
              "      <td>0.274236</td>\n",
              "      <td>0.122436</td>\n",
              "      <td>2.239835</td>\n",
              "    </tr>\n",
              "    <tr>\n",
              "      <th>6</th>\n",
              "      <td>lcp</td>\n",
              "      <td>-0.106328</td>\n",
              "      <td>0.145702</td>\n",
              "      <td>-0.729763</td>\n",
              "    </tr>\n",
              "    <tr>\n",
              "      <th>7</th>\n",
              "      <td>gleason</td>\n",
              "      <td>-0.036245</td>\n",
              "      <td>0.124057</td>\n",
              "      <td>-0.292160</td>\n",
              "    </tr>\n",
              "    <tr>\n",
              "      <th>8</th>\n",
              "      <td>pgg45</td>\n",
              "      <td>0.211098</td>\n",
              "      <td>0.142635</td>\n",
              "      <td>1.479988</td>\n",
              "    </tr>\n",
              "  </tbody>\n",
              "</table>\n",
              "</div>\n",
              "      <button class=\"colab-df-convert\" onclick=\"convertToInteractive('df-0278a5e2-fa8b-4506-80cd-cf94cd57c17c')\"\n",
              "              title=\"Convert this dataframe to an interactive table.\"\n",
              "              style=\"display:none;\">\n",
              "        \n",
              "  <svg xmlns=\"http://www.w3.org/2000/svg\" height=\"24px\"viewBox=\"0 0 24 24\"\n",
              "       width=\"24px\">\n",
              "    <path d=\"M0 0h24v24H0V0z\" fill=\"none\"/>\n",
              "    <path d=\"M18.56 5.44l.94 2.06.94-2.06 2.06-.94-2.06-.94-.94-2.06-.94 2.06-2.06.94zm-11 1L8.5 8.5l.94-2.06 2.06-.94-2.06-.94L8.5 2.5l-.94 2.06-2.06.94zm10 10l.94 2.06.94-2.06 2.06-.94-2.06-.94-.94-2.06-.94 2.06-2.06.94z\"/><path d=\"M17.41 7.96l-1.37-1.37c-.4-.4-.92-.59-1.43-.59-.52 0-1.04.2-1.43.59L10.3 9.45l-7.72 7.72c-.78.78-.78 2.05 0 2.83L4 21.41c.39.39.9.59 1.41.59.51 0 1.02-.2 1.41-.59l7.78-7.78 2.81-2.81c.8-.78.8-2.07 0-2.86zM5.41 20L4 18.59l7.72-7.72 1.47 1.35L5.41 20z\"/>\n",
              "  </svg>\n",
              "      </button>\n",
              "      \n",
              "  <style>\n",
              "    .colab-df-container {\n",
              "      display:flex;\n",
              "      flex-wrap:wrap;\n",
              "      gap: 12px;\n",
              "    }\n",
              "\n",
              "    .colab-df-convert {\n",
              "      background-color: #E8F0FE;\n",
              "      border: none;\n",
              "      border-radius: 50%;\n",
              "      cursor: pointer;\n",
              "      display: none;\n",
              "      fill: #1967D2;\n",
              "      height: 32px;\n",
              "      padding: 0 0 0 0;\n",
              "      width: 32px;\n",
              "    }\n",
              "\n",
              "    .colab-df-convert:hover {\n",
              "      background-color: #E2EBFA;\n",
              "      box-shadow: 0px 1px 2px rgba(60, 64, 67, 0.3), 0px 1px 3px 1px rgba(60, 64, 67, 0.15);\n",
              "      fill: #174EA6;\n",
              "    }\n",
              "\n",
              "    [theme=dark] .colab-df-convert {\n",
              "      background-color: #3B4455;\n",
              "      fill: #D2E3FC;\n",
              "    }\n",
              "\n",
              "    [theme=dark] .colab-df-convert:hover {\n",
              "      background-color: #434B5C;\n",
              "      box-shadow: 0px 1px 3px 1px rgba(0, 0, 0, 0.15);\n",
              "      filter: drop-shadow(0px 1px 2px rgba(0, 0, 0, 0.3));\n",
              "      fill: #FFFFFF;\n",
              "    }\n",
              "  </style>\n",
              "\n",
              "      <script>\n",
              "        const buttonEl =\n",
              "          document.querySelector('#df-0278a5e2-fa8b-4506-80cd-cf94cd57c17c button.colab-df-convert');\n",
              "        buttonEl.style.display =\n",
              "          google.colab.kernel.accessAllowed ? 'block' : 'none';\n",
              "\n",
              "        async function convertToInteractive(key) {\n",
              "          const element = document.querySelector('#df-0278a5e2-fa8b-4506-80cd-cf94cd57c17c');\n",
              "          const dataTable =\n",
              "            await google.colab.kernel.invokeFunction('convertToInteractive',\n",
              "                                                     [key], {});\n",
              "          if (!dataTable) return;\n",
              "\n",
              "          const docLinkHtml = 'Like what you see? Visit the ' +\n",
              "            '<a target=\"_blank\" href=https://colab.research.google.com/notebooks/data_table.ipynb>data table notebook</a>'\n",
              "            + ' to learn more about interactive tables.';\n",
              "          element.innerHTML = '';\n",
              "          dataTable['output_type'] = 'display_data';\n",
              "          await google.colab.output.renderOutput(dataTable, element);\n",
              "          const docLink = document.createElement('div');\n",
              "          docLink.innerHTML = docLinkHtml;\n",
              "          element.appendChild(docLink);\n",
              "        }\n",
              "      </script>\n",
              "    </div>\n",
              "  </div>\n",
              "  "
            ]
          },
          "metadata": {}
        },
        {
          "output_type": "display_data",
          "data": {
            "text/plain": [
              "'MSE= 0.6698503474388362'"
            ],
            "application/vnd.google.colaboratory.intrinsic+json": {
              "type": "string"
            }
          },
          "metadata": {}
        },
        {
          "output_type": "stream",
          "name": "stdout",
          "text": [
            "-----------------------------------------------------------------\n",
            "Ridge Regression for Prostate Cancer\n",
            "------------------------------\n",
            "best lambda= 1.0\n",
            "min mse = 0.5352473669025946\n"
          ]
        },
        {
          "output_type": "display_data",
          "data": {
            "text/plain": [
              "'Test MSE = 0.6493524952778619'"
            ],
            "application/vnd.google.colaboratory.intrinsic+json": {
              "type": "string"
            }
          },
          "metadata": {}
        },
        {
          "output_type": "stream",
          "name": "stdout",
          "text": [
            "-----------------------------------------------------------------\n",
            "Lasso for Prostate Cancer\n",
            "------------------------------\n",
            "Best Lamba= 0.2243018018018018\n"
          ]
        },
        {
          "output_type": "display_data",
          "data": {
            "text/plain": [
              "<Figure size 432x288 with 1 Axes>"
            ],
            "image/png": "[encoded data removed]"
          },
          "metadata": {
            "needs_background": "light"
          }
        },
        {
          "output_type": "display_data",
          "data": {
            "text/plain": [
              "<Figure size 432x288 with 1 Axes>"
            ],
            "image/png": "[encoded data removed]"
          },
          "metadata": {
            "needs_background": "light"
          }
        }
      ]
    },
    {
      "cell_type": "code",
      "source": [
        "training_features2, training_labels2, testing_features2, testing_labels2, validation_features2, validation_labels2, columns2 = clean_data2()\n",
        "columns2 = ['date', 'house age', 'distance to MRT', 'num_conv_store', 'lat', 'long']\n",
        "\n",
        "Tables(\"Real Estate\", training_features2, training_labels2, testing_features2, testing_labels2, columns2)\n",
        "Ridge(\"Real Estate\",training_features2, training_labels2, testing_features2, testing_labels2, validation_features2, validation_labels2, columns2)\n",
        "Lasso(\"Real Estate\",training_features2, training_labels2, validation_features2, validation_labels2, columns2, 0.0001, 2.5)"
      ],
      "metadata": {
        "colab": {
          "base_uri": "https://localhost:8080/",
          "height": 1000
        },
        "id": "eNaLeCzCyoTW",
        "outputId": "9714d293-af2c-4f13-82e8-331fa9e33e07"
      },
      "execution_count": null,
      "outputs": [
        {
          "output_type": "stream",
          "name": "stdout",
          "text": [
            "[[ 1.          0.95056782  1.21022237 ... -1.05046273 -1.45687237\n",
            "  -3.17850429]\n",
            " [ 1.          0.95056782  1.5437756  ...  0.98650013  0.81384106\n",
            "   0.21495235]\n",
            " [ 1.         -0.23396695 -0.58920952 ... -0.71096892 -0.39564824\n",
            "  -1.08561206]\n",
            " ...\n",
            " [ 1.         -1.12059477 -1.55475834 ... -1.38995654  0.16679249\n",
            "  -0.108234  ]\n",
            " [ 1.         -0.52832738  0.44656103 ... -0.71096892  0.9645236\n",
            "   0.89716224]\n",
            " [ 1.          1.24492826 -0.33465574 ... -1.38995654  3.67116888\n",
            "  -0.9904806 ]]\n",
            "-----------------------------------------------------------------\n",
            "Linear Regression for Real Estate\n",
            "------------------------------\n",
            "TABLE 3.1. Correlations of predictors in the Real Estate data.\n",
            "                     date house age distance to MRT num_conv_store       lat  \\\n",
            "date             1.000000  0.001976        0.046967       0.053705  0.062133   \n",
            "house age        0.001976  1.000000        0.061883       0.058334  0.050811   \n",
            "distance to MRT  0.046967  0.061883        1.000000      -0.605944 -0.600038   \n",
            "num_conv_store   0.053705  0.058334       -0.605944       1.000000  0.433144   \n",
            "lat              0.062133  0.050811       -0.600038       0.433144  1.000000   \n",
            "long            -0.011539 -0.073167       -0.805924       0.465243  0.430135   \n",
            "\n",
            "                     long  \n",
            "date            -0.011539  \n",
            "house age       -0.073167  \n",
            "distance to MRT -0.805924  \n",
            "num_conv_store   0.465243  \n",
            "lat              0.430135  \n",
            "long             1.000000  \n",
            "------------------------------\n",
            "TABLE 3.2. Linear model fit to the Real Estate data.\n"
          ]
        },
        {
          "output_type": "display_data",
          "data": {
            "text/plain": [
              "              Term  Coefficient  Std Error    Z Score\n",
              "0        intercept    38.081859   0.498326  76.419561\n",
              "1             date     1.617701   0.504709   3.205212\n",
              "2        house age    -3.485885   0.509325  -6.844133\n",
              "3  distance to MRT    -5.588852   1.044831  -5.349050\n",
              "4   num_conv_store     3.077577   0.627806   4.902115\n",
              "5              lat     2.862331   0.620240   4.614880\n",
              "6             long    -0.381247   0.871051  -0.437687"
            ],
            "text/html": [
              "\n",
              "  <div id=\"df-6f471ea3-3545-4d64-aa1a-925d50d5aafa\">\n",
              "    <div class=\"colab-df-container\">\n",
              "      <div>\n",
              "<style scoped>\n",
              "    .dataframe tbody tr th:only-of-type {\n",
              "        vertical-align: middle;\n",
              "    }\n",
              "\n",
              "    .dataframe tbody tr th {\n",
              "        vertical-align: top;\n",
              "    }\n",
              "\n",
              "    .dataframe thead th {\n",
              "        text-align: right;\n",
              "    }\n",
              "</style>\n",
              "<table border=\"1\" class=\"dataframe\">\n",
              "  <thead>\n",
              "    <tr style=\"text-align: right;\">\n",
              "      <th></th>\n",
              "      <th>Term</th>\n",
              "      <th>Coefficient</th>\n",
              "      <th>Std Error</th>\n",
              "      <th>Z Score</th>\n",
              "    </tr>\n",
              "  </thead>\n",
              "  <tbody>\n",
              "    <tr>\n",
              "      <th>0</th>\n",
              "      <td>intercept</td>\n",
              "      <td>38.081859</td>\n",
              "      <td>0.498326</td>\n",
              "      <td>76.419561</td>\n",
              "    </tr>\n",
              "    <tr>\n",
              "      <th>1</th>\n",
              "      <td>date</td>\n",
              "      <td>1.617701</td>\n",
              "      <td>0.504709</td>\n",
              "      <td>3.205212</td>\n",
              "    </tr>\n",
              "    <tr>\n",
              "      <th>2</th>\n",
              "      <td>house age</td>\n",
              "      <td>-3.485885</td>\n",
              "      <td>0.509325</td>\n",
              "      <td>-6.844133</td>\n",
              "    </tr>\n",
              "    <tr>\n",
              "      <th>3</th>\n",
              "      <td>distance to MRT</td>\n",
              "      <td>-5.588852</td>\n",
              "      <td>1.044831</td>\n",
              "      <td>-5.349050</td>\n",
              "    </tr>\n",
              "    <tr>\n",
              "      <th>4</th>\n",
              "      <td>num_conv_store</td>\n",
              "      <td>3.077577</td>\n",
              "      <td>0.627806</td>\n",
              "      <td>4.902115</td>\n",
              "    </tr>\n",
              "    <tr>\n",
              "      <th>5</th>\n",
              "      <td>lat</td>\n",
              "      <td>2.862331</td>\n",
              "      <td>0.620240</td>\n",
              "      <td>4.614880</td>\n",
              "    </tr>\n",
              "    <tr>\n",
              "      <th>6</th>\n",
              "      <td>long</td>\n",
              "      <td>-0.381247</td>\n",
              "      <td>0.871051</td>\n",
              "      <td>-0.437687</td>\n",
              "    </tr>\n",
              "  </tbody>\n",
              "</table>\n",
              "</div>\n",
              "      <button class=\"colab-df-convert\" onclick=\"convertToInteractive('df-6f471ea3-3545-4d64-aa1a-925d50d5aafa')\"\n",
              "              title=\"Convert this dataframe to an interactive table.\"\n",
              "              style=\"display:none;\">\n",
              "        \n",
              "  <svg xmlns=\"http://www.w3.org/2000/svg\" height=\"24px\"viewBox=\"0 0 24 24\"\n",
              "       width=\"24px\">\n",
              "    <path d=\"M0 0h24v24H0V0z\" fill=\"none\"/>\n",
              "    <path d=\"M18.56 5.44l.94 2.06.94-2.06 2.06-.94-2.06-.94-.94-2.06-.94 2.06-2.06.94zm-11 1L8.5 8.5l.94-2.06 2.06-.94-2.06-.94L8.5 2.5l-.94 2.06-2.06.94zm10 10l.94 2.06.94-2.06 2.06-.94-2.06-.94-.94-2.06-.94 2.06-2.06.94z\"/><path d=\"M17.41 7.96l-1.37-1.37c-.4-.4-.92-.59-1.43-.59-.52 0-1.04.2-1.43.59L10.3 9.45l-7.72 7.72c-.78.78-.78 2.05 0 2.83L4 21.41c.39.39.9.59 1.41.59.51 0 1.02-.2 1.41-.59l7.78-7.78 2.81-2.81c.8-.78.8-2.07 0-2.86zM5.41 20L4 18.59l7.72-7.72 1.47 1.35L5.41 20z\"/>\n",
              "  </svg>\n",
              "      </button>\n",
              "      \n",
              "  <style>\n",
              "    .colab-df-container {\n",
              "      display:flex;\n",
              "      flex-wrap:wrap;\n",
              "      gap: 12px;\n",
              "    }\n",
              "\n",
              "    .colab-df-convert {\n",
              "      background-color: #E8F0FE;\n",
              "      border: none;\n",
              "      border-radius: 50%;\n",
              "      cursor: pointer;\n",
              "      display: none;\n",
              "      fill: #1967D2;\n",
              "      height: 32px;\n",
              "      padding: 0 0 0 0;\n",
              "      width: 32px;\n",
              "    }\n",
              "\n",
              "    .colab-df-convert:hover {\n",
              "      background-color: #E2EBFA;\n",
              "      box-shadow: 0px 1px 2px rgba(60, 64, 67, 0.3), 0px 1px 3px 1px rgba(60, 64, 67, 0.15);\n",
              "      fill: #174EA6;\n",
              "    }\n",
              "\n",
              "    [theme=dark] .colab-df-convert {\n",
              "      background-color: #3B4455;\n",
              "      fill: #D2E3FC;\n",
              "    }\n",
              "\n",
              "    [theme=dark] .colab-df-convert:hover {\n",
              "      background-color: #434B5C;\n",
              "      box-shadow: 0px 1px 3px 1px rgba(0, 0, 0, 0.15);\n",
              "      filter: drop-shadow(0px 1px 2px rgba(0, 0, 0, 0.3));\n",
              "      fill: #FFFFFF;\n",
              "    }\n",
              "  </style>\n",
              "\n",
              "      <script>\n",
              "        const buttonEl =\n",
              "          document.querySelector('#df-6f471ea3-3545-4d64-aa1a-925d50d5aafa button.colab-df-convert');\n",
              "        buttonEl.style.display =\n",
              "          google.colab.kernel.accessAllowed ? 'block' : 'none';\n",
              "\n",
              "        async function convertToInteractive(key) {\n",
              "          const element = document.querySelector('#df-6f471ea3-3545-4d64-aa1a-925d50d5aafa');\n",
              "          const dataTable =\n",
              "            await google.colab.kernel.invokeFunction('convertToInteractive',\n",
              "                                                     [key], {});\n",
              "          if (!dataTable) return;\n",
              "\n",
              "          const docLinkHtml = 'Like what you see? Visit the ' +\n",
              "            '<a target=\"_blank\" href=https://colab.research.google.com/notebooks/data_table.ipynb>data table notebook</a>'\n",
              "            + ' to learn more about interactive tables.';\n",
              "          element.innerHTML = '';\n",
              "          dataTable['output_type'] = 'display_data';\n",
              "          await google.colab.output.renderOutput(dataTable, element);\n",
              "          const docLink = document.createElement('div');\n",
              "          docLink.innerHTML = docLinkHtml;\n",
              "          element.appendChild(docLink);\n",
              "        }\n",
              "      </script>\n",
              "    </div>\n",
              "  </div>\n",
              "  "
            ]
          },
          "metadata": {}
        },
        {
          "output_type": "display_data",
          "data": {
            "text/plain": [
              "'MSE= 77.16692416473232'"
            ],
            "application/vnd.google.colaboratory.intrinsic+json": {
              "type": "string"
            }
          },
          "metadata": {}
        },
        {
          "output_type": "stream",
          "name": "stdout",
          "text": [
            "-----------------------------------------------------------------\n",
            "Ridge Regression for Real Estate\n",
            "------------------------------\n",
            "best lambda= 135.0\n",
            "min mse = 57.43566062707578\n"
          ]
        },
        {
          "output_type": "display_data",
          "data": {
            "text/plain": [
              "'Test MSE = 83.52945705708377'"
            ],
            "application/vnd.google.colaboratory.intrinsic+json": {
              "type": "string"
            }
          },
          "metadata": {}
        },
        {
          "output_type": "stream",
          "name": "stdout",
          "text": [
            "-----------------------------------------------------------------\n",
            "Lasso for Real Estate\n",
            "------------------------------\n",
            "Best Lamba= 1.6817144144144143\n"
          ]
        },
        {
          "output_type": "display_data",
          "data": {
            "text/plain": [
              "<Figure size 432x288 with 1 Axes>"
            ],
            "image/png": "[encoded data removed]"
          },
          "metadata": {
            "needs_background": "light"
          }
        },
        {
          "output_type": "display_data",
          "data": {
            "text/plain": [
              "<Figure size 432x288 with 1 Axes>"
            ],
            "image/png": "[encoded data removed]"
          },
          "metadata": {
            "needs_background": "light"
          }
        }
      ]
    },
    {
      "cell_type": "markdown",
      "source": [
        "For the real estate dataset, it looks like the latitude, longitude, and house age matter most. This makes sense, as location is highly correlated to house prices, and newer houses are typically more expensive than older ones.\n",
        "\n"
      ],
      "metadata": {
        "id": "OdNrrDiAzOlV"
      }
    }
  ]
}