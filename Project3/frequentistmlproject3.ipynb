{
  "nbformat": 4,
  "nbformat_minor": 0,
  "metadata": {
    "colab": {
      "provenance": []
    },
    "kernelspec": {
      "name": "python3",
      "display_name": "Python 3"
    },
    "language_info": {
      "name": "python"
    }
  },
  "cells": [
    {
      "cell_type": "markdown",
      "source": [
        "The wrong and Right Way to Do Cross-validation\n",
        "\n",
        "This one is short, and no stretch goals available. In the interst of time, I also won't code review this assignment.\n",
        "\n",
        "Re-implement the example in section 7.10.2 using any simple, out of the box classifier (like K nearest neighbors from sci-kit). Reproduce the results for the incorrect and correct way of doing cross-validation."
      ],
      "metadata": {
        "id": "0tHUvVPfQlkd"
      }
    },
    {
      "cell_type": "code",
      "execution_count": null,
      "metadata": {
        "id": "ivZ0gPyBQgVU"
      },
      "outputs": [],
      "source": [
        "import numpy as np\n",
        "from sklearn.neighbors import KNeighborsClassifier\n",
        "from sklearn.feature_selection import SelectKBest\n",
        "\n",
        "N = 50 # 50 samples\n",
        "p = 5000 # 5000 predictors"
      ]
    },
    {
      "cell_type": "markdown",
      "source": [
        "The wrong way"
      ],
      "metadata": {
        "id": "j7f82XhrWmRh"
      }
    },
    {
      "cell_type": "code",
      "source": [
        "acc = []\n",
        "\n",
        "for i in range(50): # run simulation 50 times\n",
        "  x = np.random.normal(size=(N, p)) # generate data\n",
        "  x = (x - np.mean(x)) / np.std(x) # normalize data\n",
        "\n",
        "  y = np.append(np.ones(25), np.zeros(25)) # generate labels with 50/50 split\n",
        "  np.random.shuffle(y)\n",
        "\n",
        "  # select 100 best predictors. the selection in the wrong solution selects based on all of the data, including the validation fold\n",
        "  x_selected = SelectKBest(k=100).fit_transform(x, y)\n",
        "  n_groups = 5\n",
        "\n",
        "  x_folds = np.split(x_selected, n_groups) # split into n groups\n",
        "  y_folds = np.split(y, n_groups)\n",
        "\n",
        "  correct_guesses = 0\n",
        "\n",
        "  # for every fold, remove it, and then classify based on the remaining folds.\n",
        "  for i in range(n_groups):\n",
        "    x_removed = x_folds.copy()\n",
        "    x_removed.pop(i)\n",
        "    x_removed = np.concatenate(np.array(x_removed))\n",
        "\n",
        "    y_removed = y_folds.copy()\n",
        "    y_removed.pop(i)\n",
        "    y_removed = np.concatenate(np.array(y_removed))\n",
        "\n",
        "    knn = KNeighborsClassifier(n_neighbors=1)\n",
        "    knn.fit(x_removed, y_removed)\n",
        "\n",
        "    # make predictions based on removed fold\n",
        "    yh = knn.predict(x_folds[i])\n",
        "    guesses = np.diff([yh, y_folds[i]], axis=0)\n",
        "    correct_guesses += guesses.size - np.count_nonzero(guesses)\n",
        "  acc.append(100.0 * (correct_guesses/ N))\n",
        "\n",
        "# the incorrect method yields about 2.5% error, which is similar to the textbook and significantly lower than the true error \n",
        "print(\"Incorrect Method accuracy: \" + str(np.mean(acc)) + \"%\")"
      ],
      "metadata": {
        "colab": {
          "base_uri": "https://localhost:8080/"
        },
        "id": "XDIVUt16Wls9",
        "outputId": "7938ea7c-975a-4328-d7b2-6a80fe11109f"
      },
      "execution_count": null,
      "outputs": [
        {
          "output_type": "stream",
          "name": "stdout",
          "text": [
            "Incorrect Method accuracy: 98.68%\n"
          ]
        }
      ]
    },
    {
      "cell_type": "markdown",
      "source": [
        "The right way"
      ],
      "metadata": {
        "id": "F6Y2W0QZWoER"
      }
    },
    {
      "cell_type": "code",
      "source": [
        "acc = []\n",
        "\n",
        "for i in range(50):\n",
        "  x = np.random.normal(size=(N, p))\n",
        "  x = (x - np.mean(x)) / np.std(x)\n",
        "\n",
        "  y = np.append(np.ones(25), np.zeros(25))\n",
        "  np.random.shuffle(y)\n",
        "\n",
        "  n_groups = 5\n",
        "\n",
        "  x_folds = np.split(x_selected, n_groups)\n",
        "  y_folds = np.split(y, n_groups)\n",
        "\n",
        "  correct_guesses = 0\n",
        "\n",
        "  for i in range(n_groups):\n",
        "    x_removed = x_folds.copy()\n",
        "    x_removed.pop(i)\n",
        "    x_removed = np.concatenate(np.array(x_removed))\n",
        "\n",
        "    y_removed = y_folds.copy()\n",
        "    y_removed.pop(i)\n",
        "    y_removed = np.concatenate(np.array(y_removed))\n",
        "\n",
        "    # this time, the k best predictors were selected after the validation fold was removed.\n",
        "    x_removed = SelectKBest(k=100).fit_transform(x_removed, y_removed)\n",
        "\n",
        "    knn = KNeighborsClassifier(n_neighbors=1)\n",
        "    knn.fit(x_removed, y_removed)\n",
        "\n",
        "    yh = knn.predict(x_folds[i])\n",
        "    guesses = np.diff([yh, y_folds[i]], axis=0)\n",
        "    correct_guesses += guesses.size - np.count_nonzero(guesses)\n",
        "  acc.append(100.0 * (correct_guesses/ N))\n",
        "\n",
        "# Correct method accuracy is about the true error rate at 50%\n",
        "print(\"Correct Method accuracy: \" + str(np.mean(acc)) + \"%\")"
      ],
      "metadata": {
        "colab": {
          "base_uri": "https://localhost:8080/"
        },
        "id": "DviVAC7jWpFj",
        "outputId": "c73c9caa-f2c1-4664-a7c8-bb26fd659ad2"
      },
      "execution_count": null,
      "outputs": [
        {
          "output_type": "stream",
          "name": "stdout",
          "text": [
            "Correct Method accuracy: 48.28%\n"
          ]
        }
      ]
    }
  ]
}