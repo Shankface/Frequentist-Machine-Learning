{
  "cells": [
    {
      "cell_type": "markdown",
      "source": [
        "# Project 4 - Stretch Goal 1\n",
        "## Ayden Shankman and Gavri Kepets\n",
        "Implementing a basic Tree Algorithm from scratch for classification and regression that can use several loss functions: entropy, gini index, misclassification, and MSE"
      ],
      "metadata": {
        "id": "LCjkVj1VZnL-"
      }
    },
    {
      "cell_type": "code",
      "execution_count": null,
      "metadata": {
        "id": "TB_WmdX67430"
      },
      "outputs": [],
      "source": [
        "from sklearn.datasets import fetch_california_housing\n",
        "import sklearn.datasets\n",
        "from sklearn.metrics import accuracy_score\n",
        "from sklearn.metrics import mean_squared_error\n",
        "from sklearn.model_selection import train_test_split\n",
        "import matplotlib.pyplot as plt\n",
        "import numpy as np\n",
        "import pandas as pd\n",
        "from tqdm import tqdm\n",
        "from statistics import mean, mode"
      ]
    },
    {
      "cell_type": "markdown",
      "source": [
        "Node Class"
      ],
      "metadata": {
        "id": "Yow8OsSgQYBf"
      }
    },
    {
      "cell_type": "code",
      "execution_count": null,
      "metadata": {
        "id": "eGGUURik_18Q"
      },
      "outputs": [],
      "source": [
        "class Node():\n",
        "    def __init__(self, feature_index=None, thresh=None, left=None, right=None, info_gain=None, value=None):        \n",
        "        \n",
        "        # Decision Node\n",
        "        self.feat_index = feature_index\n",
        "        self.thresh = thresh\n",
        "        self.left = left\n",
        "        self.right = right\n",
        "        self.info_gain = info_gain\n",
        "        \n",
        "        # Leaf Node\n",
        "        self.value = value"
      ]
    },
    {
      "cell_type": "markdown",
      "source": [
        "Functions for Building Decision Tree"
      ],
      "metadata": {
        "id": "eumENOf6QalH"
      }
    },
    {
      "cell_type": "code",
      "execution_count": null,
      "metadata": {
        "id": "2DNpu59KDil4"
      },
      "outputs": [],
      "source": [
        "def build_tree(data_train, curr_depth, max_depth, loss_func, tree_type):\n",
        "\n",
        "  if(curr_depth < max_depth):\n",
        "    best_split = get_best_split(data_train, loss_func, tree_type) # get best split\n",
        "    if best_split[\"info_gain\"] > 0: # if there's impurity\n",
        "      left_subtree = build_tree(best_split[\"dataset_left\"], curr_depth+1, max_depth, loss_func, tree_type) # build left subtree \n",
        "      right_subtree = build_tree(best_split[\"dataset_right\"], curr_depth+1, max_depth, loss_func, tree_type) # build right subtree\n",
        "      \n",
        "      return Node(best_split[\"feat_index\"], best_split[\"thresh\"], \n",
        "                  left_subtree, right_subtree, best_split[\"info_gain\"])\n",
        "\n",
        "  # If there's no splitting to be done, make a leaf node\n",
        "  return Node(value = get_leaf_value(data_train[:,-1], tree_type))\n",
        "\n",
        "# Function to return the best split info\n",
        "def get_best_split(data_train, loss_func, tree_type):\n",
        "  num_feat = data_train.shape[1] - 1\n",
        "  max_info_gain = -float(\"inf\")\n",
        "  min_info_gain = float(\"inf\")\n",
        "\n",
        "  best_split = {}\n",
        "  best_split[\"info_gain\"] = 0\n",
        "\n",
        "  for feat_index in range(num_feat): # loop through features\n",
        "    X_curr = data_train[:,feat_index]\n",
        "    for thresh in np.unique(X_curr):  # loop through unique values in feature\n",
        "      # Split data into left and right subsets\n",
        "      left_data = np.array([row for row in data_train if row[feat_index]<=thresh])\n",
        "      right_data = np.array([row for row in data_train if row[feat_index]>thresh])\n",
        "      # Make sure both subsets aren't empty\n",
        "      if(len(left_data) > 0 and len(right_data) > 0):\n",
        "\n",
        "        curr_info_gain = info_gain(left_data[:,-1], right_data[:,-1], data_train[:,-1], loss_func) # get info gain\n",
        "        \n",
        "        # For classification\n",
        "        if(tree_type == \"class\"):\n",
        "\n",
        "          if curr_info_gain > max_info_gain:\n",
        "            max_info_gain = curr_info_gain\n",
        "            best_split[\"feat_index\"] = feat_index\n",
        "            best_split[\"thresh\"] = thresh\n",
        "            best_split[\"dataset_left\"] = left_data\n",
        "            best_split[\"dataset_right\"] = right_data\n",
        "            best_split[\"info_gain\"] = curr_info_gain\n",
        "        \n",
        "        # For regression\n",
        "        elif(tree_type == \"regress\"):\n",
        "\n",
        "          if curr_info_gain < min_info_gain:\n",
        "            min_info_gain = curr_info_gain\n",
        "            best_split[\"feat_index\"] = feat_index\n",
        "            best_split[\"thresh\"] = thresh\n",
        "            best_split[\"dataset_left\"] = left_data\n",
        "            best_split[\"dataset_right\"] = right_data\n",
        "            best_split[\"info_gain\"] = curr_info_gain\n",
        "        \n",
        "  return best_split\n",
        "\n",
        "# Function to calculate info gain of split\n",
        "def info_gain(Y_left, Y_right, Y, gain_func):\n",
        "\n",
        "  if gain_func == mse:\n",
        "    return mse(Y_left, Y_right)\n",
        "\n",
        "  # get weights of each side of split\n",
        "  weight_l = len(Y_left)/len(Y)\n",
        "  weight_r = len(Y_right)/len(Y)\n",
        "\n",
        "  # Info gain equation\n",
        "  return gain_func(Y) - (weight_l*gain_func(Y_left) + weight_r*gain_func(Y_right))\n",
        "\n",
        "# Calculate entropy of dataset\n",
        "def entropy(Y):\n",
        "  class_labs = np.unique(Y)\n",
        "  entropy = 0\n",
        "  for cls in class_labs:\n",
        "    prob_cls = len(Y[Y == cls])/len(Y)\n",
        "    entropy += (-prob_cls * np.log2(prob_cls))\n",
        "  return entropy\n",
        "\n",
        "# Calculate Gini index of dataset\n",
        "def gini(Y):\n",
        "  class_labs = np.unique(Y)\n",
        "  gini = 0\n",
        "  for cls in class_labs:\n",
        "    prob_cls = len(Y[Y == cls])/len(Y)\n",
        "    gini += prob_cls**2\n",
        "  return 1-gini\n",
        "\n",
        "# Calculate misclassification rate of dataset\n",
        "def misclass(Y):\n",
        "  y_pred = mode(Y)\n",
        "  return len(Y[Y != y_pred])/len(Y)\n",
        "\n",
        "# Calculate MSE of split\n",
        "def mse(Y_left, Y_right):\n",
        "  return ((Y_left - Y_left.mean())**2).sum() + ((Y_right - Y_right.mean())**2).sum()\n",
        "\n",
        "# Calculates value at leaf node\n",
        "def get_leaf_value(Y, tree_type):\n",
        "  Y = list(Y)\n",
        "  if tree_type == \"regress\":\n",
        "    return mean(Y)\n",
        "  return max(Y, key=Y.count)\n",
        "\n",
        "# Prints tree\n",
        "def print_tree(tree, indent = \"  \"):\n",
        "\n",
        "  if tree.value is not None:\n",
        "    print(tree.value)\n",
        "  \n",
        "  else:\n",
        "    print(\"X_\"+str(tree.feat_index), \"<=\", tree.thresh, \"?\", tree.info_gain)\n",
        "    print(\"%sleft:\" % (indent), end=\"\")\n",
        "    print_tree(tree.left, indent + indent)\n",
        "    print(\"%sright:\" % (indent), end=\"\")\n",
        "    print_tree(tree.right, indent + indent)\n",
        "\n",
        "# Predicts values of test set on a tree\n",
        "def predict(X_test, tree):\n",
        "  predictions = [make_predict(row, tree) for row in X_test]\n",
        "  return predictions\n",
        "\n",
        "def make_predict(X_test_row, tree):\n",
        "  if tree.value != None:\n",
        "    return tree.value\n",
        "  feature_val = X_test_row[tree.feat_index]\n",
        "  if feature_val <= tree.thresh:\n",
        "    return make_predict(X_test_row, tree.left)\n",
        "  else:\n",
        "    return make_predict(X_test_row, tree.right)"
      ]
    },
    {
      "cell_type": "markdown",
      "source": [
        "Decision Tree Classification"
      ],
      "metadata": {
        "id": "OYcRJ3RzO_ty"
      }
    },
    {
      "cell_type": "code",
      "execution_count": null,
      "metadata": {
        "colab": {
          "base_uri": "https://localhost:8080/",
          "height": 382
        },
        "id": "6BXlCUB_98cz",
        "outputId": "52e395a8-0849-4bb1-b71d-0dab5f1e2fef"
      },
      "outputs": [
        {
          "output_type": "stream",
          "name": "stdout",
          "text": [
            "--------------------------------\n",
            "Baseline MSE: 0.42105263157894735\n",
            "--------------------------------\n"
          ]
        },
        {
          "output_type": "stream",
          "name": "stderr",
          "text": [
            "100%|██████████| 7/7 [05:24<00:00, 46.41s/it]\n"
          ]
        },
        {
          "output_type": "execute_result",
          "data": {
            "text/plain": [
              "<matplotlib.legend.Legend at 0x7f8b051c95b0>"
            ]
          },
          "metadata": {},
          "execution_count": 49
        },
        {
          "output_type": "display_data",
          "data": {
            "text/plain": [
              "<Figure size 432x288 with 1 Axes>"
            ],
            "image/png": "[encoded data removed]"
          },
          "metadata": {
            "needs_background": "light"
          }
        }
      ],
      "source": [
        "# Breast Cancer Dataset\n",
        "breast_cancer_df = sklearn.datasets.load_breast_cancer() \n",
        "X_cancer = pd.DataFrame(breast_cancer_df[\"data\"], columns = breast_cancer_df[\"feature_names\"])\n",
        "Y_cancer = breast_cancer_df[\"target\"]\n",
        "\n",
        "X_train, X_test, Y_train, Y_test = train_test_split(X_cancer, Y_cancer, test_size=0.2) # Split data into training and testing\n",
        "X_train[\"label\"] = Y_train\n",
        "\n",
        "entropy_loss = []\n",
        "gini_loss = []\n",
        "miss_loss = []\n",
        "max_depth = 7\n",
        "\n",
        "# Get basline MSE using mode of training data\n",
        "Y_pred = [mode(list(Y_train))]*len(Y_test)\n",
        "baseline = mean_squared_error(Y_test,Y_pred)\n",
        "print(\"--------------------------------\")\n",
        "print('Baseline MSE: ' + str(baseline))\n",
        "print(\"--------------------------------\")\n",
        "\n",
        "# Build trees with different loss functions of increasing depth\n",
        "for i in tqdm(range(1,max_depth+1)):\n",
        "\n",
        "  # Tree using entropy  \n",
        "  tree_entropy = build_tree(X_train.to_numpy(), curr_depth = 0, max_depth = i, loss_func = entropy, tree_type = \"class\")\n",
        "  Y_pred_ent = predict(X_test.to_numpy(), tree_entropy)\n",
        "  entropy_loss.append(mean_squared_error(Y_test, Y_pred_ent))\n",
        "  \n",
        "  # Tree using gini index  \n",
        "  tree_gini = build_tree(X_train.to_numpy(), curr_depth = 0, max_depth = i, loss_func = gini, tree_type = \"class\")\n",
        "  Y_pred_gini = predict(X_test.to_numpy(), tree_gini)\n",
        "  gini_loss.append(mean_squared_error(Y_test, Y_pred_gini))\n",
        "\n",
        "  # Tree using misclassification\n",
        "  tree_miss = build_tree(X_train.to_numpy(), curr_depth = 0, max_depth = i, loss_func = misclass, tree_type = \"class\")\n",
        "  Y_pred_miss = predict(X_test.to_numpy(), tree_miss)\n",
        "  miss_loss.append(mean_squared_error(Y_test, Y_pred_miss))\n",
        "\n",
        "# Plot each tree at each depth against baseline\n",
        "plt.figure()\n",
        "plt.plot(list(range(1,max_depth+1)), entropy_loss)\n",
        "plt.plot(list(range(1,max_depth+1)), gini_loss)\n",
        "plt.plot(list(range(1,max_depth+1)), miss_loss)\n",
        "plt.title(\"Decision Tree for Classification\")\n",
        "plt.ylabel(\"MSE\")\n",
        "plt.xlabel(\"Depth\")\n",
        "plt.legend(['Entropy', \"Gini Index\", \"Missclassification\"])\n"
      ]
    },
    {
      "cell_type": "markdown",
      "source": [
        "Decision Tree Regression"
      ],
      "metadata": {
        "id": "jly1hpH6P2gD"
      }
    },
    {
      "cell_type": "code",
      "execution_count": null,
      "metadata": {
        "colab": {
          "base_uri": "https://localhost:8080/",
          "height": 382
        },
        "id": "poJwDPDtWq7g",
        "outputId": "fafc3342-4f19-420c-88a4-7fe0dc9a559e"
      },
      "outputs": [
        {
          "output_type": "stream",
          "name": "stdout",
          "text": [
            "--------------------------------\n",
            "Baseline MSE: 0.6691347413786977\n",
            "--------------------------------\n"
          ]
        },
        {
          "output_type": "stream",
          "name": "stderr",
          "text": [
            "100%|██████████| 7/7 [00:42<00:00,  6.08s/it]\n"
          ]
        },
        {
          "output_type": "execute_result",
          "data": {
            "text/plain": [
              "Text(0.5, 0, 'Depth')"
            ]
          },
          "metadata": {},
          "execution_count": 50
        },
        {
          "output_type": "display_data",
          "data": {
            "text/plain": [
              "<Figure size 432x288 with 1 Axes>"
            ],
            "image/png": "[encoded data removed]"
          },
          "metadata": {
            "needs_background": "light"
          }
        }
      ],
      "source": [
        "# California Housing Prices Dataset\n",
        "california_housing = fetch_california_housing(as_frame=True)\n",
        "\n",
        "X_cal = pd.DataFrame(california_housing[\"data\"], columns = california_housing[\"feature_names\"])[:1000]\n",
        "Y_cal = california_housing[\"target\"][:1000]\n",
        "\n",
        "X_train, X_test, Y_train, Y_test = train_test_split(X_cal, Y_cal, test_size=0.2) # Split data into training and testing\n",
        "X_train[\"target\"] = Y_train\n",
        "\n",
        "# Get basline MSE using mean of training data\n",
        "Y_pred = [mean(list(Y_train))]*len(Y_test)\n",
        "baseline = mean_squared_error(Y_test,Y_pred)\n",
        "print(\"--------------------------------\")\n",
        "print('Baseline MSE: ' + str(baseline))\n",
        "print(\"--------------------------------\")\n",
        "\n",
        "max_depth = 7\n",
        "mse_loss = []\n",
        "\n",
        "# Build regression tree using MSE as loss function with increasing depths \n",
        "for i in tqdm(range(1,max_depth+1)):\n",
        "  tree = build_tree(X_train.to_numpy(), curr_depth = 0, max_depth = i, loss_func = mse, tree_type = \"regress\")\n",
        "  Y_pred = predict(X_test.to_numpy(), tree)\n",
        "  mse_loss.append(mean_squared_error(Y_test, Y_pred))\n",
        "\n",
        "plt.figure()\n",
        "plt.plot(list(range(1,max_depth+1)), mse_loss)\n",
        "plt.title(\"Decision Tree for Regression\")\n",
        "plt.ylabel(\"MSE\")\n",
        "plt.xlabel(\"Depth\")"
      ]
    }
  ],
  "metadata": {
    "colab": {
      "provenance": []
    },
    "kernelspec": {
      "display_name": "Python 3",
      "name": "python3"
    },
    "language_info": {
      "name": "python"
    }
  },
  "nbformat": 4,
  "nbformat_minor": 0
}